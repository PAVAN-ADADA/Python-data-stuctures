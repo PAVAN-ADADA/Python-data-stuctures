{
  "nbformat": 4,
  "nbformat_minor": 0,
  "metadata": {
    "colab": {
      "provenance": []
    },
    "kernelspec": {
      "name": "python3",
      "display_name": "Python 3"
    },
    "language_info": {
      "name": "python"
    }
  },
  "cells": [
    {
      "cell_type": "markdown",
      "source": [
        "                              **Data Types and Structures Questions**\n",
        "\n",
        "\n",
        "1. What are data structures, and why are they important.?\n",
        "\n",
        " => Data structures are specialized formats for organizing, storing, and accessing data in a computer, enabling efficient data management. They are fundamental because they allow programs to handle information effectively, impacting performance, readability, and scalability of code. They define how data elements are related and what operations can be performed on them.\n",
        "\n",
        "2. Explain the difference between mutable and immutable data types with examples\n",
        "\n",
        " => mutable data types allow their values to be modified after creation, while immutable data types cannot be changed once created.\n",
        "\n",
        "\n",
        "*   Mutable data type example\n",
        "-   list,Dictionaries.\n",
        "\n",
        "-   Immutable data types example\n",
        "-   Strings,tuples.\n",
        "\n",
        "3. What are the main differences between lists and tuples in Python.?\n",
        "\n",
        " => Tuples are immutable objects and lists are mutable objects. Once defined, tuples have a fixed length and lists have a dynamic length. Tuples use less memory and are faster to access than to lists. Tuple syntax uses round brackets or parenthesis, and list syntax uses square brackets.\n",
        "\n",
        "\n",
        " 4. Describe how dictionaries store data.\n",
        "\n",
        "  => A dictionary is a data structure that stores the value in key: value pairs. Values in a dictionary can be of any data type and can be duplicated, whereas keys can't be repeated and must be immutable. which makes it easier to find values.\n",
        "\n",
        "\n",
        "  5. Why might you use a set instead of a list in Python.?\n",
        "\n",
        "  =>Sets are suitable for unordered collections of unique elements.\n",
        "  sets do not store indexed data or duplicates, they use less memory than lists and are less computationally expensive.One of the main advantages of using sets is that they are highly optimized for membership tests\n",
        "\n",
        "\n",
        "  6. What is a string in Python, and how is it different from a list.\n",
        "\n",
        "  =>A string is an immutable sequence of characters, while a list is a mutable sequence of items, which can be of any data type.\n",
        " *  Mutability:\n",
        "Strings are immutable, meaning their values cannot be changed after creation. Lists are mutable, allowing for modification, addition, or removal of elements.\n",
        "\n",
        " *   Item Types:\n",
        "Strings can only store characters, while lists can store items of various data types.\n",
        "\n",
        "\n",
        " 7. How do tuples ensure data integrity in Python.\n",
        "\n",
        " => Tuples in Python ensure data integrity through their immutability. Once a tuple is created, its elements cannot be modified, added, or removed. This characteristic guarantees that the data stored within a tuple remains constant throughout its lifecycle. Immutability makes tuples suitable for scenarios where data consistency is crucial, such as storing configuration settings, representing fixed records, or using them as keys in dictionaries.\n",
        "Attempting to modify a tuple will result in an error, preventing accidental or unauthorized changes to the data. This protection against modification ensures that the data within a tuple remains reliable and consistent, contributing to the overall integrity of the program.\n",
        "\n",
        "8. What is a hash table, and how does it relate to dictionaries in Python.?\n",
        "\n",
        " =>A hash table is a data structure that stores key-value pairs, where each key is unique and the values can be of any data type. It uses a hash function to compute the index in an array of slots, or buckets, from which the desired value can be looked up, inserted, or deleted. Hash tables offer average-case O(1) time complexity for these operations, making them efficient for storing and retrieving data.\n",
        " * In Python, dictionaries are implemented using hash tables. When a key-value pair is added to a dictionary, the key is hashed to determine the index where the value will be stored. If a collision occurs (two keys hash to the same index), Python uses a collision resolution technique, such as separate chaining or open addressing, to handle it. Dictionaries in Python provide fast lookups, insertions, and deletions due to the underlying hash table implementation.\n",
        "\n",
        "\n",
        "9. Can lists contain different data types in Python.?\n",
        "\n",
        " =>Yes, lists in Python can contain elements of different data types. This is one of the features that makes lists very flexible. A single list can hold integers, strings, floats, booleans, or even other lists and data structures.\n",
        "\n",
        "\n",
        " 10. Explain why strings are immutable in Python.\n",
        "\n",
        " => strings are immutable, meaning their values cannot be changed after they are created. Any operation that appears to modify a string instead creates a new string object. When a string is \"modified\", such as by concatenation or slicing, a new string object is created with the updated value. The original string remains unchanged.\n",
        "\n",
        "  *  Immutability allows for optimizations like string interning, where identical string literals are stored only once in memory. This saves space and improves performance, especially when dealing with many repeated strings.\n",
        "\n",
        "\n",
        "  11. What advantages do dictionaries offer over lists for certain tasks?\n",
        "\n",
        "  => Dictionaries allow for quick retrieval of values based on unique keys, while lists require sequential searching. This makes dictionaries ideal for scenarios like storing and accessing large datasets, mapping relationships between data, or implementing caches and configurations.\n",
        "   *  Faster Lookup:\n",
        "   This means you can directly access a value by its key, rather than having to iterate through the entire list.\n",
        "   *  Key-Value Associations:\n",
        "Dictionaries are specifically designed for storing data as key-value pairs.\n",
        "\n",
        "\n",
        " 12. Describe a scenario where using a tuple would be preferable over a list.\n",
        "\n",
        " => A tuple would be preferable over a list when you need to store a collection of items that will not be modified after creation, and when you want to ensure data integrity and consistency.\n",
        "  *  Scenario:\n",
        "Imagine a function that needs to represent a point in a 2D space. You could use a tuple to store the x and y coordinates.\n",
        "\n",
        "\n",
        "13. How do sets handle duplicate values in Python.?\n",
        "\n",
        " =>  sets are designed to store only unique elements. When attempting to add a duplicate value to a set, the set automatically discards the duplicate, ensuring that it contains only distinct elements. This behavior is a core characteristic of sets, making them useful for tasks like removing duplicates from a list or checking for membership.\n",
        "\n",
        "14. How does the “in” keyword work differently for lists and dictionaries\n",
        "\n",
        " =>Lists:\n",
        "The in operator for lists searches for a specific element within the list. It iterates through the list and compares each element with the target value, returning True if a match is found and False otherwise.\n",
        " * For example, 2 in [1, 2, 3] would return True because 2 is present in the list, while 4 in [1, 2, 3] would return False.\n",
        "\n",
        " =>Dictionaries:\n",
        " By default, when in is used with a dictionary, it checks if the provided value is a key within the dictionary. It returns True if the key is present and False otherwise.\n",
        "  * For example, 'a' in {'a': 1, 'b': 2} would return True because 'a' is a key in the dictionary, while 'c' in {'a': 1, 'b': 2} would return False because 'c' is not a key.\n",
        "\n",
        "\n",
        " 15. Can you modify the elements of a tuple? Explain why or why not.\n",
        "\n",
        " =>No, you cannot directly modify the elements of a tuple in Python after it's been created. Tuples are immutable, meaning their contents cannot be changed once they are defined. Trying to modify a tuple will result in a TypeError.\n",
        " Immutability helps ensure that data is not accidentally changed, which is useful in scenarios where the data should be preserved. Immutability can sometimes lead to performance improvements because the object can be safely cached and reused without the risk of modification.\n",
        "\n",
        " 16. What is a nested dictionary, and give an example of its use case.?\n",
        "\n",
        " =>A nested dictionary is a dictionary where the values are themselves dictionaries. This allows for the creation of a hierarchical structure where data can be organized into multiple levels. A common use case for nested dictionaries is representing complex, multi-layered data.\n",
        "  *  For example such as employee information with nested address and contact details.\n",
        "  the employee dictionary contains nested dictionaries for address and contact. This allows for easy organization and access of detailed information related to the employee's address and contact details.\n",
        "\n",
        "\n",
        "  17. Describe the time complexity of accessing elements in a dictionary.\n",
        "\n",
        "  =>Accessing an element in a dictionary using its key typically has a time complexity of O(1) on average, meaning it takes constant time, regardless of the dictionary's size. However, in the worst-case scenario, it can degrade to O(n), where n is the number of key-value pairs, if there are many hash collisions. When you access an element by its key, the hash function quickly determines the potential location of that key-value pair in the array. This lookup is very efficient and takes constant time on average, hence O(1).\n",
        "  If the hash function isn't designed well or if there are a large number of keys that hash to the same index, it can lead to collisions. This means multiple key-value pairs are trying to occupy the same slot in the array.\n",
        "\n",
        "\n",
        "  18. In what situations are lists preferred over dictionaries.\n",
        "\n",
        "  => we prefer lists If the order of elements is important and you need to access them by their position (index), lists are a better choice.\n",
        "  When you frequently perform operations like appending, extending, or iterating through a list.When you need to store a sequence of items, and don't need to associate each item with a unique key.  Dictionaries are generally better when quick lookups by key are required, or when data is associated with unique identifiers.\n",
        "\n",
        "\n",
        "  19. Why are dictionaries considered unordered, and how does that affect data retrieval?\n",
        "\n",
        "  =>Dictionaries are considered unordered because they don't inherently maintain a specific order of elements based on when they were added.\n",
        "\n",
        "   *  How Unordered Nature Affects Data Retrieval:\n",
        "    *No Indexing:\n",
        "Dictionaries cannot be accessed using numerical indices like lists (e.g., dictionary). Instead, you must use the keys to retrieve values.\n",
        "    *No Slicing:\n",
        "Dictionaries do not support slicing (e.g., dictionary[1:3]) because they don't have a defined order.\n",
        "\n",
        "\n",
        "  20. Explain the difference between a list and a dictionary in terms of data retrieval\n",
        "  \n",
        "  \n",
        "\n",
        " => Lists:\n",
        "  *  Retrieval: Accessed by index (position), starting from 0. To get a specific element, you need to know its index, and the list might need to be searched sequentially until the element is found.\n",
        "\n",
        " Time Complexity: Finding an element in a list can be slow, particularly for large lists, as it might involve searching through many elements.\n",
        "\n",
        "=> Dictionaries:\n",
        "\n",
        " * Retrieval: Accessed by unique keys. Values are associated with keys, and you can quickly retrieve a value by providing its corresponding key.\n",
        "\n",
        " Time Complexity: Dictionaries use hashing to map keys to values, enabling very fast lookups (typically constant time).\n",
        "\n",
        "\n",
        "\n",
        "\n",
        "                             "
      ],
      "metadata": {
        "id": "irVaGLRqsEJP"
      }
    },
    {
      "cell_type": "markdown",
      "source": [
        "                                        Practical Questions"
      ],
      "metadata": {
        "id": "0P-9mZaJzp4U"
      }
    },
    {
      "cell_type": "code",
      "source": [
        "#1.Write a code to create a string with your name and print it.\n",
        "\n",
        "name = (\"pavan\") #-> used my name as a string\n",
        "print(name)"
      ],
      "metadata": {
        "colab": {
          "base_uri": "https://localhost:8080/"
        },
        "id": "560-M0YuzzIh",
        "outputId": "88e2f991-c488-46ec-c1d8-30178b662363"
      },
      "execution_count": null,
      "outputs": [
        {
          "output_type": "stream",
          "name": "stdout",
          "text": [
            "pavan\n"
          ]
        }
      ]
    },
    {
      "cell_type": "code",
      "source": [
        "#2.Write a code to find the length of the string \"Hello World\".\n",
        "\n",
        "a = (\"hello world\")\n",
        "print(len(a)) # -> here i have used length function."
      ],
      "metadata": {
        "colab": {
          "base_uri": "https://localhost:8080/"
        },
        "id": "y8R0eyXf1Jxw",
        "outputId": "6de084a6-f68d-4f07-9b1c-b29cfb611e14"
      },
      "execution_count": null,
      "outputs": [
        {
          "output_type": "stream",
          "name": "stdout",
          "text": [
            "11\n"
          ]
        }
      ]
    },
    {
      "cell_type": "code",
      "source": [
        "#3.Write a code to slice the first 3 characters from the string \"Python Programming\".\n",
        "\n",
        "a = (\"python programming\")\n",
        "b =a[0:3]  # by using slice\n",
        "print(b)"
      ],
      "metadata": {
        "colab": {
          "base_uri": "https://localhost:8080/"
        },
        "id": "QgAjSXDo1vUI",
        "outputId": "ab3d7cc8-cff4-4576-81ea-e242626f4f59"
      },
      "execution_count": null,
      "outputs": [
        {
          "output_type": "stream",
          "name": "stdout",
          "text": [
            "pyt\n"
          ]
        }
      ]
    },
    {
      "cell_type": "code",
      "source": [
        "#4.Write a code to convert the string \"hello\" to uppercase.\n",
        "\n",
        "a = (\"hello\")\n",
        "b = a.upper()\n",
        "print(b)"
      ],
      "metadata": {
        "colab": {
          "base_uri": "https://localhost:8080/"
        },
        "id": "eWzibIqX3HMD",
        "outputId": "a1326755-5466-475b-8269-879909638f9e"
      },
      "execution_count": null,
      "outputs": [
        {
          "output_type": "stream",
          "name": "stdout",
          "text": [
            "HELLO\n"
          ]
        }
      ]
    },
    {
      "cell_type": "code",
      "source": [
        "#5.Write a code to replace the word \"apple\" with \"orange\" in the string \"I like apple\".\n",
        "\n",
        "a = (\"I like apple\")\n",
        "b = a.replace(\"apple\",\"orange\")\n",
        "print(b)"
      ],
      "metadata": {
        "colab": {
          "base_uri": "https://localhost:8080/"
        },
        "id": "t8_754zh5coS",
        "outputId": "98e75c54-6d5b-4837-e8d0-59ab78f7a9d1"
      },
      "execution_count": null,
      "outputs": [
        {
          "output_type": "stream",
          "name": "stdout",
          "text": [
            "I like orange\n"
          ]
        }
      ]
    },
    {
      "cell_type": "code",
      "source": [
        "#6.Write a code to create a list with numbers 1 to 5 and print it.\n",
        "\n",
        "a = [1,2,3,4,5]\n",
        "print(a)\n",
        "type(a)"
      ],
      "metadata": {
        "colab": {
          "base_uri": "https://localhost:8080/"
        },
        "id": "Mte9MGsC5dTM",
        "outputId": "7cae76ca-c41a-4ef3-eb31-43a69c6b7a6e"
      },
      "execution_count": null,
      "outputs": [
        {
          "output_type": "stream",
          "name": "stdout",
          "text": [
            "[1, 2, 3, 4, 5]\n"
          ]
        },
        {
          "output_type": "execute_result",
          "data": {
            "text/plain": [
              "list"
            ]
          },
          "metadata": {},
          "execution_count": 16
        }
      ]
    },
    {
      "cell_type": "code",
      "source": [
        "#7.Write a code to append the number 10 to the list [1, 2, 3, 4].\n",
        "\n",
        "a =[1,2,3,4]\n",
        "b = a.append(10)\n",
        "print(a)"
      ],
      "metadata": {
        "colab": {
          "base_uri": "https://localhost:8080/"
        },
        "id": "A8wfh5dR5dhx",
        "outputId": "e5490240-88b4-441a-96d0-0e35a25df036"
      },
      "execution_count": null,
      "outputs": [
        {
          "output_type": "stream",
          "name": "stdout",
          "text": [
            "[1, 2, 3, 4, 10]\n"
          ]
        }
      ]
    },
    {
      "cell_type": "code",
      "source": [
        "#8.Write a code to remove the number 3 from the list [1, 2, 3, 4, 5].\n",
        "\n",
        "a = [1,2,3,4,5]\n",
        "b = a.remove(3)\n",
        "print(a)"
      ],
      "metadata": {
        "colab": {
          "base_uri": "https://localhost:8080/"
        },
        "id": "CggQUgCP5doE",
        "outputId": "03ebae78-1234-4ea4-b817-f465c6fdcecd"
      },
      "execution_count": null,
      "outputs": [
        {
          "output_type": "stream",
          "name": "stdout",
          "text": [
            "[1, 2, 4, 5]\n"
          ]
        }
      ]
    },
    {
      "cell_type": "code",
      "source": [
        "#9.Write a code to access the second element in the list ['a', 'b', 'c', 'd'].\n",
        "\n",
        "a = ['a','b','c','d']\n",
        "b = a[1]\n",
        "print(b)"
      ],
      "metadata": {
        "colab": {
          "base_uri": "https://localhost:8080/"
        },
        "id": "NkbLq18B5d1F",
        "outputId": "64888a8d-ecd2-4be8-a7e2-664e9b2cea0a"
      },
      "execution_count": null,
      "outputs": [
        {
          "output_type": "stream",
          "name": "stdout",
          "text": [
            "b\n"
          ]
        }
      ]
    },
    {
      "cell_type": "code",
      "source": [
        "#10.Write a code to reverse the list [10, 20, 30, 40, 50].\n",
        "\n",
        "a = [10, 20, 30, 40, 50]\n",
        "b = a[: :-1] # here i have used slicing method we can use diferent methods also\n",
        "print(b)"
      ],
      "metadata": {
        "colab": {
          "base_uri": "https://localhost:8080/"
        },
        "id": "9RBU-XJx9NgL",
        "outputId": "9709d70e-ca13-4b23-f924-acd91effaddd"
      },
      "execution_count": 43,
      "outputs": [
        {
          "output_type": "stream",
          "name": "stdout",
          "text": [
            "[50, 40, 30, 20, 10]\n"
          ]
        }
      ]
    },
    {
      "cell_type": "code",
      "source": [
        "#11.Write a code to create a tuple with the elements 100, 200, 300 and print it.\n",
        "\n",
        "a = (100,200,300)\n",
        "print(a)\n",
        "type(a)"
      ],
      "metadata": {
        "id": "jB9ZLXcd9Nl6",
        "colab": {
          "base_uri": "https://localhost:8080/"
        },
        "outputId": "07b32270-88d5-432c-944f-fa071206828c"
      },
      "execution_count": 44,
      "outputs": [
        {
          "output_type": "stream",
          "name": "stdout",
          "text": [
            "(100, 200, 300)\n"
          ]
        },
        {
          "output_type": "execute_result",
          "data": {
            "text/plain": [
              "tuple"
            ]
          },
          "metadata": {},
          "execution_count": 44
        }
      ]
    },
    {
      "cell_type": "code",
      "source": [
        "#12.Write a code to access the second-to-last element of the tuple ('red', 'green', 'blue', 'yellow').\n",
        "\n",
        "a = ('red','green','blue','yellow')\n",
        "b = a[-2]\n",
        "print(b)\n",
        "type(a)"
      ],
      "metadata": {
        "id": "zC7bRdZ-9Nw8",
        "colab": {
          "base_uri": "https://localhost:8080/"
        },
        "outputId": "ea04044e-2269-442c-8aae-6dbe0445e306"
      },
      "execution_count": 47,
      "outputs": [
        {
          "output_type": "stream",
          "name": "stdout",
          "text": [
            "blue\n"
          ]
        },
        {
          "output_type": "execute_result",
          "data": {
            "text/plain": [
              "tuple"
            ]
          },
          "metadata": {},
          "execution_count": 47
        }
      ]
    },
    {
      "cell_type": "code",
      "source": [
        "#13. Write a code to find the minimum number in the tuple (10, 20, 5, 15).\n",
        "\n",
        "a = (12,20,5,15)\n",
        "b =min(a) # using minimum function\n",
        "print(b)"
      ],
      "metadata": {
        "colab": {
          "base_uri": "https://localhost:8080/"
        },
        "id": "aixVGgqVHL7P",
        "outputId": "4c656f0c-7a54-4ca0-c8d5-3809f0fc7184"
      },
      "execution_count": 49,
      "outputs": [
        {
          "output_type": "stream",
          "name": "stdout",
          "text": [
            "5\n"
          ]
        }
      ]
    },
    {
      "cell_type": "code",
      "source": [
        "#14.Write a code to find the index of the element \"cat\" in the tuple ('dog', 'cat', 'rabbit').\n",
        "\n",
        "a = ('dog','cat','rabbit')\n",
        "b = a.index('cat') # using index function\n",
        "print(b)"
      ],
      "metadata": {
        "colab": {
          "base_uri": "https://localhost:8080/"
        },
        "id": "occildKeHL_C",
        "outputId": "34ab601f-c15f-4de9-8277-e306f1bef81e"
      },
      "execution_count": 117,
      "outputs": [
        {
          "output_type": "stream",
          "name": "stdout",
          "text": [
            "1\n"
          ]
        }
      ]
    },
    {
      "cell_type": "code",
      "source": [
        "#15.Write a code to create a tuple containing three different fruits and check if \"kiwi\" is in it.\n",
        "\n",
        "a = ('apple','kiwi','banana')\n",
        "b = 'kiwi'\n",
        "if b in a :  # here i have used if else conditions.\n",
        "  print(\"the fruit kiwi is present\")\n",
        "else:\n",
        "  print(\"the fruit kiwi is not present\")\n",
        "type(a)"
      ],
      "metadata": {
        "colab": {
          "base_uri": "https://localhost:8080/"
        },
        "id": "FqI4ZrreHMad",
        "outputId": "e714667d-3c97-4897-d3d0-b7134d1f63d6"
      },
      "execution_count": 52,
      "outputs": [
        {
          "output_type": "stream",
          "name": "stdout",
          "text": [
            "the fruit kiwi is present\n"
          ]
        },
        {
          "output_type": "execute_result",
          "data": {
            "text/plain": [
              "tuple"
            ]
          },
          "metadata": {},
          "execution_count": 52
        }
      ]
    },
    {
      "cell_type": "code",
      "source": [
        "#16. Write a code to create a set with the elements 'a', 'b', 'c' and print it.\n",
        "\n",
        "a = {'a','b','c'}\n",
        "print(a)\n",
        "type(a)"
      ],
      "metadata": {
        "colab": {
          "base_uri": "https://localhost:8080/"
        },
        "id": "g4ptV5LLKl-v",
        "outputId": "6713fbd0-18bf-43e7-da5a-7d155a924f36"
      },
      "execution_count": 56,
      "outputs": [
        {
          "output_type": "stream",
          "name": "stdout",
          "text": [
            "{'b', 'a', 'c'}\n"
          ]
        },
        {
          "output_type": "execute_result",
          "data": {
            "text/plain": [
              "set"
            ]
          },
          "metadata": {},
          "execution_count": 56
        }
      ]
    },
    {
      "cell_type": "code",
      "source": [
        "#17. Write a code to clear all elements from the set {1, 2, 3, 4, 5}.\n",
        "\n",
        "a = {1,2,3,4,5}\n",
        "b = a.clear()\n",
        "print(b)"
      ],
      "metadata": {
        "colab": {
          "base_uri": "https://localhost:8080/"
        },
        "id": "Sv1gl9s2KmMx",
        "outputId": "5a753c4d-c14a-4912-932b-4152a7812e65"
      },
      "execution_count": 59,
      "outputs": [
        {
          "output_type": "stream",
          "name": "stdout",
          "text": [
            "None\n"
          ]
        }
      ]
    },
    {
      "cell_type": "code",
      "source": [
        "#18.Write a code to remove the element 4 from the set {1, 2, 3, 4}.\n",
        "\n",
        "a = {1,2,3,4}\n",
        "b = a.remove(4)\n",
        "print(a)"
      ],
      "metadata": {
        "colab": {
          "base_uri": "https://localhost:8080/"
        },
        "id": "NwVVPnvGKmXs",
        "outputId": "e504493b-4e6f-4714-df29-7a8e239c892f"
      },
      "execution_count": 69,
      "outputs": [
        {
          "output_type": "stream",
          "name": "stdout",
          "text": [
            "{1, 2, 3}\n"
          ]
        }
      ]
    },
    {
      "cell_type": "code",
      "source": [
        "#19.Write a code to find the union of two sets {1, 2, 3} and {3, 4, 5}.\n",
        "\n",
        "a  = {1,2,3}\n",
        "b = {3,4,5}\n",
        "c = a | b # here i have used union operator\n",
        "print(c)"
      ],
      "metadata": {
        "colab": {
          "base_uri": "https://localhost:8080/"
        },
        "id": "lFk6MSEeKm7G",
        "outputId": "0b4ee8d2-3e7f-4efb-cfcd-ee127bfe8e06"
      },
      "execution_count": 116,
      "outputs": [
        {
          "output_type": "stream",
          "name": "stdout",
          "text": [
            "{1, 2, 3, 4, 5}\n"
          ]
        }
      ]
    },
    {
      "cell_type": "code",
      "source": [
        "#20. Write a code to find the intersection of two sets {1, 2, 3} and {2, 3, 4}.\n",
        "\n",
        "a = {1,2,3}\n",
        "b = {2,3,4}\n",
        "c = a & b\n",
        "print(c)"
      ],
      "metadata": {
        "colab": {
          "base_uri": "https://localhost:8080/"
        },
        "id": "rQkE6hNKKnOX",
        "outputId": "4133fb71-c67d-47f5-e607-ab9e2f0153e1"
      },
      "execution_count": 73,
      "outputs": [
        {
          "output_type": "stream",
          "name": "stdout",
          "text": [
            "{2, 3}\n"
          ]
        }
      ]
    },
    {
      "cell_type": "code",
      "source": [
        "#21. Write a code to create a dictionary with the keys \"name\", \"age\", and \"city\", and print it.\n",
        "\n",
        "a = {\"name\":\"pavan\",\"age\":\"25\",\"city\":\"banglore\"}\n",
        "print(a)\n",
        "type(a)"
      ],
      "metadata": {
        "colab": {
          "base_uri": "https://localhost:8080/"
        },
        "id": "zEpK9zjUPJ0w",
        "outputId": "af2b2dd1-eb10-40d4-ef3b-660dc35fd6ce"
      },
      "execution_count": 74,
      "outputs": [
        {
          "output_type": "stream",
          "name": "stdout",
          "text": [
            "{'name': 'pavan', 'age': '25', 'city': 'banglore'}\n"
          ]
        },
        {
          "output_type": "execute_result",
          "data": {
            "text/plain": [
              "dict"
            ]
          },
          "metadata": {},
          "execution_count": 74
        }
      ]
    },
    {
      "cell_type": "code",
      "source": [
        "#22 .Write a code to add a new key-value pair \"country\": \"USA\" to the dictionary {'name': 'John', 'age': 25}\n",
        "\n",
        "a = {'name': 'john','age': 25}\n",
        "a.update({\"country\":\"USA\"})\n",
        "print(a)"
      ],
      "metadata": {
        "colab": {
          "base_uri": "https://localhost:8080/"
        },
        "id": "smVAIx-jPJ4B",
        "outputId": "e607a33e-db70-4d48-97c5-0bfb8879d3c6"
      },
      "execution_count": 82,
      "outputs": [
        {
          "output_type": "stream",
          "name": "stdout",
          "text": [
            "{'name': 'john', 'age': 25, 'country': 'USA'}\n"
          ]
        }
      ]
    },
    {
      "cell_type": "code",
      "source": [
        "#23. Write a code to access the value associated with the key \"name\" in the dictionary {'name': 'Alice', 'age': 30}.\n",
        "\n",
        "a = {'name':'Alice','age':30}\n",
        "b = a['name']\n",
        "print(b)"
      ],
      "metadata": {
        "colab": {
          "base_uri": "https://localhost:8080/"
        },
        "id": "A0v8d0YnPJ7l",
        "outputId": "9cc27a41-0258-4207-8c3b-75262347f3ee"
      },
      "execution_count": 86,
      "outputs": [
        {
          "output_type": "stream",
          "name": "stdout",
          "text": [
            "Alice\n"
          ]
        }
      ]
    },
    {
      "cell_type": "code",
      "source": [
        "#24. Write a code to remove the key \"age\" from the dictionary {'name': 'Bob', 'age': 22, 'city': 'New York'}.\n",
        "\n",
        "a = {'name':'Bob','age':22,'city':'New York'}\n",
        "a.pop('age')\n",
        "print(a)\n"
      ],
      "metadata": {
        "colab": {
          "base_uri": "https://localhost:8080/"
        },
        "id": "GuvuDezoT9T9",
        "outputId": "388a0091-93ba-447c-ee85-4ae4520655a0"
      },
      "execution_count": 97,
      "outputs": [
        {
          "output_type": "stream",
          "name": "stdout",
          "text": [
            "{'name': 'Bob', 'city': 'New York'}\n"
          ]
        }
      ]
    },
    {
      "cell_type": "code",
      "source": [
        "#25.Write a code to check if the key \"city\" exists in the dictionary {'name': 'Alice', 'city': 'Paris'}.\n",
        "\n",
        "a = {'name':'Alice','city':'Paris'}\n",
        "if 'city' in a:\n",
        "  print(\"the key city is present\")\n",
        "else:\n",
        "  print(\"the key city is not present\")\n",
        "type(a)"
      ],
      "metadata": {
        "colab": {
          "base_uri": "https://localhost:8080/"
        },
        "id": "5PYfymiyT9bU",
        "outputId": "110c0466-e674-43f3-fdee-6684c584b6b7"
      },
      "execution_count": 99,
      "outputs": [
        {
          "output_type": "stream",
          "name": "stdout",
          "text": [
            "the key city is present\n"
          ]
        },
        {
          "output_type": "execute_result",
          "data": {
            "text/plain": [
              "dict"
            ]
          },
          "metadata": {},
          "execution_count": 99
        }
      ]
    },
    {
      "cell_type": "code",
      "source": [
        "#26. Write a code to create a list, a tuple, and a dictionary, and print them all.\n",
        "\n",
        "a = [\"apple\",2,3.56,True,5+7j]\n",
        "b = (\"apple\",5,4.6,False,7+7j)\n",
        "c = {\"name\":\"pavan\",\"age\":25}\n",
        "print(a)\n",
        "print(b)\n",
        "print(c)"
      ],
      "metadata": {
        "colab": {
          "base_uri": "https://localhost:8080/"
        },
        "id": "p0nAnZLuT9e0",
        "outputId": "a22b527b-e517-484b-f6e8-fd5bb5146f1e"
      },
      "execution_count": 105,
      "outputs": [
        {
          "output_type": "stream",
          "name": "stdout",
          "text": [
            "['apple', 2, 3.56, True, (5+7j)]\n",
            "('apple', 5, 4.6, False, (7+7j))\n",
            "{'name': 'pavan', 'age': 25}\n"
          ]
        }
      ]
    },
    {
      "cell_type": "code",
      "source": [
        "#27. Write a code to create a list of 5 random numbers between 1 and 100, sort it in ascending order, and print the result.(replaced)\n",
        "\n",
        "import random\n",
        "a = [random.randint(1,100) for i in range(5)]\n",
        "a.sort()\n",
        "print(a)"
      ],
      "metadata": {
        "colab": {
          "base_uri": "https://localhost:8080/"
        },
        "id": "jQ7FERmuW8sI",
        "outputId": "d1bedc8d-6276-4a86-8934-09cbcee6fb06"
      },
      "execution_count": 112,
      "outputs": [
        {
          "output_type": "stream",
          "name": "stdout",
          "text": [
            "[1, 8, 16, 64, 77]\n"
          ]
        }
      ]
    },
    {
      "cell_type": "code",
      "source": [
        "#28. Write a code to create a list with strings and print the element at the third index.\n",
        "\n",
        "a = [\"apple\",\"banana\",\"kiwi\",\"orange\"]\n",
        "b = a[2]\n",
        "print(b)"
      ],
      "metadata": {
        "colab": {
          "base_uri": "https://localhost:8080/"
        },
        "id": "QNSbKBbqW82u",
        "outputId": "55761b65-e883-4862-ceaa-fac67c620285"
      },
      "execution_count": 113,
      "outputs": [
        {
          "output_type": "stream",
          "name": "stdout",
          "text": [
            "kiwi\n"
          ]
        }
      ]
    },
    {
      "cell_type": "code",
      "source": [
        "#29.  Write a code to combine two dictionaries into one and print the result.\n",
        "\n",
        "a = {\"name\":\"pavan\",\"age\":25}\n",
        "b = {\"city\":\"banglore\",\"country\":\"india\"}\n",
        "c = a | b # here i have used union function\n",
        "print(c)"
      ],
      "metadata": {
        "colab": {
          "base_uri": "https://localhost:8080/"
        },
        "id": "BrcoK-mpW9B_",
        "outputId": "aeadfca5-c465-491a-c648-968566385d66"
      },
      "execution_count": 114,
      "outputs": [
        {
          "output_type": "stream",
          "name": "stdout",
          "text": [
            "{'name': 'pavan', 'age': 25, 'city': 'banglore', 'country': 'india'}\n"
          ]
        }
      ]
    },
    {
      "cell_type": "code",
      "source": [
        "#30. Write a code to convert a list of strings into a set.\n",
        "\n",
        "a = [\"apple\",\"boy\",\"cat\"]\n",
        "b = set(a) # here i have changed list into set using typecasting.\n",
        "print(b)"
      ],
      "metadata": {
        "colab": {
          "base_uri": "https://localhost:8080/"
        },
        "id": "ke9lkxrsW9d4",
        "outputId": "0db01a58-f1b5-4478-fad0-f36807de97c8"
      },
      "execution_count": 115,
      "outputs": [
        {
          "output_type": "stream",
          "name": "stdout",
          "text": [
            "{'cat', 'apple', 'boy'}\n"
          ]
        }
      ]
    }
  ]
}